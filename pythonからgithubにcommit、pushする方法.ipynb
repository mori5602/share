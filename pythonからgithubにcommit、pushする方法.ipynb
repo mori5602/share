{
 "cells": [
  {
   "cell_type": "markdown",
   "metadata": {},
   "source": [
    "# pythonからgithubにcommit、pushする方法\n",
    "---\n",
    "\n",
    "## １．githubのアカウントとリポジトリを作る\n",
    "手順はネット上にいっぱいあるため、ここでは省略\n",
    "\n",
    "## ２．公開鍵の登録\n",
    "githubへの接続は、ID/PASSやトークンキーではなく、公開鍵方式で。やり方は [こことか](\n",
    "http://qiita.com/shizuma/items/2b2f873a0034839e47ce)を参考に。\n",
    "\n",
    "## ３．プログラム\n",
    "1で作成したリポジトリを一度cloneし、そこからローカルでプログラムを修正したケースの、commit->push方法を記載。"
   ]
  },
  {
   "cell_type": "markdown",
   "metadata": {},
   "source": [
    "### 3-1．初期設定\n",
    "gitをインポートする必要あり。無い場合は、 pip install gitpythonを行う。"
   ]
  },
  {
   "cell_type": "code",
   "execution_count": 1,
   "metadata": {
    "collapsed": true
   },
   "outputs": [],
   "source": [
    "import git\n",
    "import subprocess\n",
    "# -*- coding: utf-8 -*-"
   ]
  },
  {
   "cell_type": "markdown",
   "metadata": {},
   "source": [
    "githubクローンしたい場合は以下の通り。何度もクローンするのはよく無いみたいなので、間違えて実行しないよう、セルの形式をMarkdownにしています。コードに変更すれば実行可能。"
   ]
  },
  {
   "cell_type": "markdown",
   "metadata": {},
   "source": [
    "git.Git().clone('git@github.com:mori5602/share.git')"
   ]
  },
  {
   "cell_type": "markdown",
   "metadata": {},
   "source": [
    "shareフォルダが作成されていることを確認する。"
   ]
  },
  {
   "cell_type": "markdown",
   "metadata": {},
   "source": [
    "pwd = subprocess.check_output(['ls','-al'])\n",
    "pwd.decode('utf-8')"
   ]
  },
  {
   "cell_type": "markdown",
   "metadata": {},
   "source": [
    "### 3-2．commitしてpushする"
   ]
  },
  {
   "cell_type": "code",
   "execution_count": null,
   "metadata": {},
   "outputs": [],
   "source": [
    "import git\n",
    "\n",
    "git_dir = u'/home/moriyama/notebooks/share'\n",
    "a= u'/home/moriyama/notebooks/share'\n",
    "git_repo= git.Repo(git_dir)\n",
    "git_repo.git.add(A=True)  #追加、変更のあったファイルを全てaddする\n",
    "git_repo.index.commit(u'new commit!')\n",
    "git_repo.remotes.origin.push('master')"
   ]
  }
 ],
 "metadata": {
  "kernelspec": {
   "display_name": "Python 3",
   "language": "python",
   "name": "python3"
  },
  "language_info": {
   "codemirror_mode": {
    "name": "ipython",
    "version": 3
   },
   "file_extension": ".py",
   "mimetype": "text/x-python",
   "name": "python",
   "nbconvert_exporter": "python",
   "pygments_lexer": "ipython3",
   "version": "3.6.1"
  },
  "toc": {
   "colors": {
    "hover_highlight": "#DAA520",
    "running_highlight": "#FF0000",
    "selected_highlight": "#FFD700"
   },
   "moveMenuLeft": true,
   "nav_menu": {
    "height": "120px",
    "width": "252px"
   },
   "navigate_menu": true,
   "number_sections": true,
   "sideBar": true,
   "threshold": 4,
   "toc_cell": false,
   "toc_section_display": "block",
   "toc_window_display": false,
   "widenNotebook": false
  }
 },
 "nbformat": 4,
 "nbformat_minor": 2
}
