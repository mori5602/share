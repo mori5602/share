{
 "cells": [
  {
   "cell_type": "markdown",
   "metadata": {},
   "source": [
    "# はじめに〜pythonと本環境について〜\n",
    "---\n",
    "\n",
    "## なぜpythonなのか\n",
    "主観ですが、思いつくまま列挙すると以下の通り。\n",
    "* 機械学習、深層学習といった分野で広くpythonが利用されているため\n",
    "* 統計分析に広く使われているR言語と同様なことができるなってきたため、R言語からpythonに鞍替えする人が増えた\n",
    "* 可読性が他の言語より高く、他人や自分が昔書いたプログラムを把握したり、修正したりが比較的楽。\n",
    "* インタプリタ型(コンパイルしない言語）としては高速。\n",
    "* GoogleやFacebookなどでも採用されており、ワールドワイドで実績のある言語。\n",
    "* 上記などを踏まえ、日本でも最近ブーム。[大手SIer](http://jpn.nec.com/press/201604/20160421_01.html)も人工知能関連の技術者やpython技術者を広く育成していくとか。また、2016年の言語別年収ランキング第一位もpython！\n",
    "* qiitaなどの技術系サイトでも結構情報が充実してきているので、困った時にググると結構情報が見つかりやすい。\n",
    "\n",
    "## pythonのバージョン\n",
    "pythonには大きく分けて2系と3系があります。2系は長年利用されてきたバージョンの為、動作が安定しており、対応ライブラリも多いです。ただし、2系は今のバージョン2.7で開発終了となっており、今後は3系が中心になっていく。    \n",
    "3系も2008年からリリースされており、この数年で安定版もいくつか提供されている。主要なライブラリも3系に対応しつつある為、ここでは3系を元に説明します。    \n",
    "2系と3系では若干書き方が変わってきます。「両方インストールすればいい」と思われる方もいるかもしれませんが、同じ環境に2系と3系を入れるのは色々めんどくさいことをしないといけないので注意。   \n",
    "本環境では、上記めんどくさいことをしているので、実は2系も3系も使えます。\n",
    "\n",
    "## ブラウザからプログラミング？\n",
    "jupyter notebookというライブラリを使っています。使い方は[ここ](http://qiita.com/taka4sato/items/2c3397ff34c440044978)の「jupyterの使い方」以降などを参考に。[ここ](http://myenigma.hatenablog.com/entry/2016/02/20/183423)とかにも書かれている通り、Markdownの記述とプログラム＆実行結果を１枚に納めることができるので技術ノートに最適です。また、jupyter notebookを用いて「[手順書 as a Code](http://www.school.ctc-g.co.jp/columns/nakai/nakai88.html)」を提唱されている方々もいたりと、非常に面白いライブラリです。　　　　\n",
    "\n",
    "なお、\n"
   ]
  }
 ],
 "metadata": {
  "kernelspec": {
   "display_name": "Python 3",
   "language": "python",
   "name": "python3"
  },
  "language_info": {
   "codemirror_mode": {
    "name": "ipython",
    "version": 3
   },
   "file_extension": ".py",
   "mimetype": "text/x-python",
   "name": "python",
   "nbconvert_exporter": "python",
   "pygments_lexer": "ipython3",
   "version": "3.6.1"
  },
  "toc": {
   "colors": {
    "hover_highlight": "#DAA520",
    "running_highlight": "#FF0000",
    "selected_highlight": "#FFD700"
   },
   "moveMenuLeft": true,
   "nav_menu": {
    "height": "84px",
    "width": "252px"
   },
   "navigate_menu": true,
   "number_sections": true,
   "sideBar": true,
   "threshold": 4,
   "toc_cell": false,
   "toc_section_display": "block",
   "toc_window_display": false,
   "widenNotebook": false
  }
 },
 "nbformat": 4,
 "nbformat_minor": 2
}
