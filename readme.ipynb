{
 "cells": [
  {
   "cell_type": "markdown",
   "metadata": {},
   "source": [
    "# python 勉強資料\n",
    "---\n",
    "## 1. はじめに  \n",
    "### [1-1. pythonと本環境について](https://github.com/mori5602/share/blob/master/1-1/%E3%81%AF%E3%81%98%E3%82%81%E3%81%AB%E3%80%9Cpython%E3%81%A8%E6%9C%AC%E7%92%B0%E5%A2%83%E3%81%AB%E3%81%A4%E3%81%84%E3%81%A6%E3%80%9C.ipynb)  \n",
    "      \n",
    "## 2. 基礎編\n",
    "### [2-1. 基本的な書き方](https://github.com/mori5602/share/blob/master/2-1/%E5%9F%BA%E6%9C%AC%E7%9A%84%E3%81%AA%E6%9B%B8%E3%81%8D%E6%96%B9.ipynb)\n",
    "### [2-2. 文字列操作](https://github.com/mori5602/share/blob/master/2-2/%E6%96%87%E5%AD%97%E5%88%97%E6%93%8D%E4%BD%9C.ipynb)\n",
    "\n",
    "### [2-3.日付型の操作](https://github.com/mori5602/share/blob/master/2-3/%E6%97%A5%E4%BB%98%E5%9E%8B/(date%E3%82%AA%E3%83%96%E3%82%B8%E3%82%A7%E3%82%AF%E3%83%88/)%E3%81%AE%E6%93%8D%E4%BD%9C.ipynb)\n",
    "\n",
    "## 3. 応用編\n",
    "### [3-1. pandasの使い方01 〜csv・tsvファイルの読み込みと書き込み〜](https://github.com/mori5602/share/blob/master/3-1/Pandas%20-csv%E3%83%BBtsv%E3%83%95%E3%82%A1%E3%82%A4%E3%83%AB%E3%81%AE%E8%AA%AD%E3%81%BF%E8%BE%BC%E3%81%BF%E3%80%81%E6%9B%B8%E3%81%8D%E5%87%BA%E3%81%97.ipynb)\n",
    "\n",
    "### [3-2.pandasの使い方02  〜新しい列への値の代入〜](https://github.com/mori5602/share/blob/master/3-2/pandas%E3%81%AE%E4%BD%BF%E3%81%84%E6%96%B902%20%20%E3%80%9C%E6%96%B0%E3%81%97%E3%81%84%E5%88%97%E3%81%B8%E3%81%AE%E5%80%A4%E3%81%AE%E4%BB%A3%E5%85%A5%E3%80%9C.ipynb)"
   ]
  }
 ],
 "metadata": {
  "kernelspec": {
   "display_name": "Python 3",
   "language": "python",
   "name": "python3"
  },
  "language_info": {
   "codemirror_mode": {
    "name": "ipython",
    "version": 3
   },
   "file_extension": ".py",
   "mimetype": "text/x-python",
   "name": "python",
   "nbconvert_exporter": "python",
   "pygments_lexer": "ipython3",
   "version": "3.6.1"
  },
  "toc": {
   "colors": {
    "hover_highlight": "#DAA520",
    "running_highlight": "#FF0000",
    "selected_highlight": "#FFD700"
   },
   "moveMenuLeft": true,
   "nav_menu": {
    "height": "30px",
    "width": "252px"
   },
   "navigate_menu": true,
   "number_sections": true,
   "sideBar": true,
   "threshold": 4,
   "toc_cell": false,
   "toc_section_display": "block",
   "toc_window_display": false,
   "widenNotebook": false
  }
 },
 "nbformat": 4,
 "nbformat_minor": 2
}
