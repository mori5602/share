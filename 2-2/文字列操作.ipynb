{
 "cells": [
  {
   "cell_type": "markdown",
   "metadata": {},
   "source": [
    "# 文字列操作\n",
    "---\n",
    "## はじめに\n",
    "文字列を表す場合、\"(ダブルクォテーション)もしくは'(シングルクォテーション)で囲む。どちらを使っても問題ない。  \n"
   ]
  },
  {
   "cell_type": "code",
   "execution_count": 29,
   "metadata": {},
   "outputs": [
    {
     "name": "stdout",
     "output_type": "stream",
     "text": [
      "hellow world\n",
      "hellow world\n"
     ]
    }
   ],
   "source": [
    "print (\"hellow world\")\n",
    "print ('hellow world')"
   ]
  },
  {
   "cell_type": "markdown",
   "metadata": {},
   "source": [
    "文字列中に\"(ダブルクォテーション)もしくは'(シングルクォテーション)を使用したい場合は以下の2つの方法がある。\n",
    "* \"(ダブルクォテーション)を使いたい場合は'(シングルクォテーション)で囲み、'(シングルクォテーション)を使いたい場合は\"(ダブルクォテーション)で囲む。\n",
    "* エスケープシーケンス（シングルクォテーションは\\'、ダブルクォテーションは\\'')を使う"
   ]
  },
  {
   "cell_type": "code",
   "execution_count": 4,
   "metadata": {},
   "outputs": [
    {
     "name": "stdout",
     "output_type": "stream",
     "text": [
      "Let's go\n",
      "Let's go\n"
     ]
    }
   ],
   "source": [
    "print (\"Let's go\")\n",
    "print ('Let\\'s go')"
   ]
  },
  {
   "cell_type": "markdown",
   "metadata": {},
   "source": [
    "その他のエスケープシーケンスは以下の通り。 \n",
    "\n",
    "\n",
    "| エスケープシーケンス |                     意味                     |\n",
    "|:--------------------:|:--------------------------------------------:|\n",
    "| \\\\\\                   | 「\\」文字そのもの                            |\n",
    "| \\'                   | シングルクオーテーション                     |\n",
    "| \\\"                   | ダブルクオーテーション                       |\n",
    "| \\a                   | ベル                                         |\n",
    "| \\b                   | バックスペース                               |\n",
    "| \\f                   | 改ページ                                     |\n",
    "| \\r                   | キャリッジリターン                           |\n",
    "| \\n                   | 改行                                         |\n",
    "| \\t                   | 水平タブ                                     |\n",
    "| \\v                   | 垂直タブ                                     |\n",
    "| \\N{name}             | Unicode データベース中で名前 name を持つ文字 |\n",
    "| \\uxxxx               | 16ビットの16進数値xxxxを持つUnicode文字      |\n",
    "| \\Uxxxxxxxx           | 32ビットの16進数値xxxxxxxxを持つUnicode文字  |\n",
    "| \\ooo                 | 8進数oooを持つASCII文字                      |\n",
    "| \\xhh                 | 16進数hhを持つASCII文字                      |\n",
    "| \\0                   | NULL                                         |\n",
    "| \\\\+(改行)             | 文字列を途中で改行する                       |"
   ]
  },
  {
   "cell_type": "markdown",
   "metadata": {},
   "source": [
    "例えば、文字列を途中で改行したい場合は\\n"
   ]
  },
  {
   "cell_type": "code",
   "execution_count": 10,
   "metadata": {},
   "outputs": [
    {
     "name": "stdout",
     "output_type": "stream",
     "text": [
      "test \n",
      "test2\n"
     ]
    }
   ],
   "source": [
    "print ('test \\ntest2')"
   ]
  },
  {
   "cell_type": "markdown",
   "metadata": {},
   "source": [
    "プログラム自体の文字列を改行したいだけの場合は、\\の後に改行する。"
   ]
  },
  {
   "cell_type": "code",
   "execution_count": 15,
   "metadata": {},
   "outputs": [
    {
     "name": "stdout",
     "output_type": "stream",
     "text": [
      "test test2\n"
     ]
    }
   ],
   "source": [
    "print ('test \\\n",
    "test2')"
   ]
  },
  {
   "cell_type": "markdown",
   "metadata": {},
   "source": [
    "## 切り取り\n",
    "1桁目の文字を抽出する"
   ]
  },
  {
   "cell_type": "code",
   "execution_count": 31,
   "metadata": {},
   "outputs": [
    {
     "name": "stdout",
     "output_type": "stream",
     "text": [
      "a\n"
     ]
    }
   ],
   "source": [
    "print ('abcdef'[0])"
   ]
  },
  {
   "cell_type": "markdown",
   "metadata": {},
   "source": [
    "後ろから数えて1桁目の文字を抽出する"
   ]
  },
  {
   "cell_type": "code",
   "execution_count": 32,
   "metadata": {},
   "outputs": [
    {
     "name": "stdout",
     "output_type": "stream",
     "text": [
      "f\n"
     ]
    }
   ],
   "source": [
    "print('abcdef'[-1])"
   ]
  },
  {
   "cell_type": "markdown",
   "metadata": {},
   "source": [
    "n桁目からm桁目まで"
   ]
  },
  {
   "cell_type": "code",
   "execution_count": 3,
   "metadata": {},
   "outputs": [
    {
     "name": "stdout",
     "output_type": "stream",
     "text": [
      "bcd\n"
     ]
    }
   ],
   "source": [
    "print('abcdef'[1:4])"
   ]
  },
  {
   "cell_type": "markdown",
   "metadata": {},
   "source": [
    "n桁目から最後まで"
   ]
  },
  {
   "cell_type": "code",
   "execution_count": 5,
   "metadata": {},
   "outputs": [
    {
     "name": "stdout",
     "output_type": "stream",
     "text": [
      "bcdef\n"
     ]
    }
   ],
   "source": [
    "print('abcdef'[1:])"
   ]
  },
  {
   "cell_type": "markdown",
   "metadata": {},
   "source": [
    "先頭からn桁目まで"
   ]
  },
  {
   "cell_type": "code",
   "execution_count": 6,
   "metadata": {},
   "outputs": [
    {
     "name": "stdout",
     "output_type": "stream",
     "text": [
      "abcd\n"
     ]
    }
   ],
   "source": [
    "print('abcdef'[:4])"
   ]
  },
  {
   "cell_type": "markdown",
   "metadata": {},
   "source": [
    "## 文字変換"
   ]
  },
  {
   "cell_type": "markdown",
   "metadata": {},
   "source": [
    "先頭を大文字に変換する場合はtitle()"
   ]
  },
  {
   "cell_type": "code",
   "execution_count": 9,
   "metadata": {},
   "outputs": [
    {
     "name": "stdout",
     "output_type": "stream",
     "text": [
      "Abcdef\n"
     ]
    }
   ],
   "source": [
    "print ('abcdef'.title())"
   ]
  },
  {
   "cell_type": "markdown",
   "metadata": {},
   "source": [
    "title()を使うと、先頭以外は逆に小文字に変換されます。"
   ]
  },
  {
   "cell_type": "code",
   "execution_count": 10,
   "metadata": {},
   "outputs": [
    {
     "name": "stdout",
     "output_type": "stream",
     "text": [
      "Abcdef\n"
     ]
    }
   ],
   "source": [
    "print ('abcDEF'.title())"
   ]
  },
  {
   "cell_type": "markdown",
   "metadata": {},
   "source": [
    "全て大文字にする場合はupper()"
   ]
  },
  {
   "cell_type": "code",
   "execution_count": 11,
   "metadata": {},
   "outputs": [
    {
     "name": "stdout",
     "output_type": "stream",
     "text": [
      "ABCDEF\n"
     ]
    }
   ],
   "source": [
    "print ('abcdef'.upper())"
   ]
  },
  {
   "cell_type": "markdown",
   "metadata": {},
   "source": [
    "全て小文字にする場合はlower()"
   ]
  },
  {
   "cell_type": "code",
   "execution_count": 12,
   "metadata": {},
   "outputs": [
    {
     "name": "stdout",
     "output_type": "stream",
     "text": [
      "abcdef\n"
     ]
    }
   ],
   "source": [
    "print ('ABCDEF'.lower())"
   ]
  },
  {
   "cell_type": "markdown",
   "metadata": {},
   "source": [
    "## 文字置換(replace)\n",
    "対象の文字列.replace(置換される文字列, 置換する文字列, 置換回数)にて文字置換できる。第三引数の置換回数は省略可。"
   ]
  },
  {
   "cell_type": "code",
   "execution_count": 36,
   "metadata": {},
   "outputs": [
    {
     "name": "stdout",
     "output_type": "stream",
     "text": [
      "zBCD\n"
     ]
    }
   ],
   "source": [
    "print ('ABCD'.replace('A','z'))"
   ]
  },
  {
   "cell_type": "code",
   "execution_count": 37,
   "metadata": {},
   "outputs": [
    {
     "name": "stdout",
     "output_type": "stream",
     "text": [
      "zBzCAD\n"
     ]
    }
   ],
   "source": [
    "print ('ABACAD'.replace('A','z',2))"
   ]
  },
  {
   "cell_type": "markdown",
   "metadata": {},
   "source": [
    "## 文字置換(正規表現)\n",
    "正規表現を使う場合、re.sub(正規表現,置換する文字,対象の文字列,置換回数)を使う。先ほど同様、置換回数は省略可。正規表現はr'文字列'と記載することを推奨。まずはreをインポート。"
   ]
  },
  {
   "cell_type": "code",
   "execution_count": 18,
   "metadata": {
    "collapsed": true
   },
   "outputs": [],
   "source": [
    "import re"
   ]
  },
  {
   "cell_type": "markdown",
   "metadata": {},
   "source": [
    "llの文字列があった場合、LLに置換する場合"
   ]
  },
  {
   "cell_type": "code",
   "execution_count": 38,
   "metadata": {},
   "outputs": [
    {
     "name": "stdout",
     "output_type": "stream",
     "text": [
      "HeLLow World\n"
     ]
    }
   ],
   "source": [
    "str = 'Hellow World'\n",
    "print re.sub(r'll','LL',str)"
   ]
  },
  {
   "cell_type": "markdown",
   "metadata": {},
   "source": [
    "aからzの文字があった場合、すべてTに置換する場合"
   ]
  },
  {
   "cell_type": "code",
   "execution_count": 27,
   "metadata": {},
   "outputs": [
    {
     "name": "stdout",
     "output_type": "stream",
     "text": [
      "HTTTTT WTTTT\n"
     ]
    }
   ],
   "source": [
    "str = 'Hellow World'\n",
    "print re.sub(r'[a-z]','T',str)"
   ]
  },
  {
   "cell_type": "markdown",
   "metadata": {},
   "source": [
    "AからZ及び記号の!があった場合、すべてTに置換する場合"
   ]
  },
  {
   "cell_type": "code",
   "execution_count": 26,
   "metadata": {},
   "outputs": [
    {
     "name": "stdout",
     "output_type": "stream",
     "text": [
      "Tellow Torld\n"
     ]
    }
   ],
   "source": [
    "str = 'Hellow World'\n",
    "print re.sub(r'[A-Z!]','T',str)"
   ]
  },
  {
   "cell_type": "markdown",
   "metadata": {},
   "source": [
    "aからz以外の文字があった場合、すべてTに置換する場合"
   ]
  },
  {
   "cell_type": "code",
   "execution_count": 28,
   "metadata": {},
   "outputs": [
    {
     "name": "stdout",
     "output_type": "stream",
     "text": [
      "TellowTTorld\n"
     ]
    }
   ],
   "source": [
    "str = 'Hellow World'\n",
    "print re.sub(r'[^a-z]','T',str)"
   ]
  },
  {
   "cell_type": "markdown",
   "metadata": {},
   "source": [
    "正規表現として、'['または']'を指定したい場合は、バックスラッシュ('\\\\')をつける。"
   ]
  },
  {
   "cell_type": "code",
   "execution_count": 23,
   "metadata": {},
   "outputs": [
    {
     "name": "stdout",
     "output_type": "stream",
     "text": [
      "Hellow:!: World\n"
     ]
    }
   ],
   "source": [
    "str = 'Hellow[!] World'\n",
    "print re.sub(r'[\\[\\]]',':',str)"
   ]
  },
  {
   "cell_type": "markdown",
   "metadata": {},
   "source": [
    "## 文字列検索(find)"
   ]
  },
  {
   "cell_type": "markdown",
   "metadata": {},
   "source": [
    "特定の文字列が最初に現れる位置を調べるにはfind()を使います。"
   ]
  },
  {
   "cell_type": "code",
   "execution_count": 26,
   "metadata": {},
   "outputs": [
    {
     "name": "stdout",
     "output_type": "stream",
     "text": [
      "13\n"
     ]
    }
   ],
   "source": [
    "str = 'this is a pen. I like it.'\n",
    "print (str.find('.'))"
   ]
  },
  {
   "cell_type": "markdown",
   "metadata": {},
   "source": [
    "文字列の末尾から調べるにはrfind()を使います。"
   ]
  },
  {
   "cell_type": "code",
   "execution_count": 29,
   "metadata": {},
   "outputs": [
    {
     "name": "stdout",
     "output_type": "stream",
     "text": [
      "24\n"
     ]
    }
   ],
   "source": [
    "str = 'this is a pen. I like it.'\n",
    "print (str.rfind('.'))"
   ]
  },
  {
   "cell_type": "markdown",
   "metadata": {},
   "source": [
    "## 文字列検索(正規表現)"
   ]
  },
  {
   "cell_type": "markdown",
   "metadata": {},
   "source": [
    "正規表現を使う場合はre.search(正規表現, 対象文字列)"
   ]
  },
  {
   "cell_type": "code",
   "execution_count": 44,
   "metadata": {},
   "outputs": [
    {
     "name": "stdout",
     "output_type": "stream",
     "text": [
      "(22, 24)\n",
      "22\n",
      "24\n"
     ]
    }
   ],
   "source": [
    "str = 'This is a pen. I like it.'\n",
    "result = re.search('i[t-z]',str) # iとt〜zの2文字で構成された文字列がないか走査する。\n",
    "print (result.span())  #該当文字列の開始位置と終了位置をリストで返す。\n",
    "print (result.start()) #該当文字列の開始位置を返す。\n",
    "print (result.end())   #該当文字列の終了位置を返す。"
   ]
  },
  {
   "cell_type": "markdown",
   "metadata": {},
   "source": [
    "正規表現に該当する文字列をすべて取得したい場合は、re.findall(正規表現, 対象文字列)"
   ]
  },
  {
   "cell_type": "code",
   "execution_count": 45,
   "metadata": {},
   "outputs": [
    {
     "name": "stdout",
     "output_type": "stream",
     "text": [
      "['is', 'is', 'ik']\n"
     ]
    }
   ],
   "source": [
    "str = 'This is a pen. I like it.'\n",
    "print (re.findall('i[a-s]',str))"
   ]
  }
 ],
 "metadata": {
  "kernelspec": {
   "display_name": "Python 2",
   "language": "python",
   "name": "python2"
  },
  "language_info": {
   "codemirror_mode": {
    "name": "ipython",
    "version": 2
   },
   "file_extension": ".py",
   "mimetype": "text/x-python",
   "name": "python",
   "nbconvert_exporter": "python",
   "pygments_lexer": "ipython2",
   "version": "2.7.13"
  },
  "toc": {
   "colors": {
    "hover_highlight": "#DAA520",
    "running_highlight": "#FF0000",
    "selected_highlight": "#FFD700"
   },
   "moveMenuLeft": true,
   "nav_menu": {
    "height": "156px",
    "width": "252px"
   },
   "navigate_menu": true,
   "number_sections": true,
   "sideBar": true,
   "threshold": 4,
   "toc_cell": false,
   "toc_section_display": "block",
   "toc_window_display": false,
   "widenNotebook": false
  }
 },
 "nbformat": 4,
 "nbformat_minor": 2
}
