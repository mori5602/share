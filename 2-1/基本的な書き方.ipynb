{
 "cells": [
  {
   "cell_type": "markdown",
   "metadata": {},
   "source": [
    "# pythonの基本的な書き方\n",
    "---\n",
    "Overview  \n",
    "---\n",
    "pythonを初めて触る人向けの、基本的な書き方を説明する。\n",
    "\n",
    "## まずは Hellow World"
   ]
  },
  {
   "cell_type": "code",
   "execution_count": 2,
   "metadata": {
    "scrolled": true
   },
   "outputs": [
    {
     "name": "stdout",
     "output_type": "stream",
     "text": [
      "Hellow World\n"
     ]
    }
   ],
   "source": [
    "print ('Hellow World')"
   ]
  },
  {
   "cell_type": "markdown",
   "metadata": {},
   "source": [
    "## 変数の使い方"
   ]
  },
  {
   "cell_type": "markdown",
   "metadata": {},
   "source": [
    "変数の宣言（int a)は不要。数値型で扱いたい場合は、数字を変数に代入する。"
   ]
  },
  {
   "cell_type": "code",
   "execution_count": 26,
   "metadata": {},
   "outputs": [
    {
     "name": "stdout",
     "output_type": "stream",
     "text": [
      "2\n"
     ]
    }
   ],
   "source": [
    "a = 1\n",
    "a += 1\n",
    "print (a)"
   ]
  },
  {
   "cell_type": "markdown",
   "metadata": {},
   "source": [
    "変数の型を調べたい場合はtype()を使う。"
   ]
  },
  {
   "cell_type": "code",
   "execution_count": 27,
   "metadata": {},
   "outputs": [
    {
     "name": "stdout",
     "output_type": "stream",
     "text": [
      "<class 'int'>\n"
     ]
    }
   ],
   "source": [
    "print (type(a))"
   ]
  },
  {
   "cell_type": "markdown",
   "metadata": {},
   "source": [
    "文字列型の変数にしたい場合は、代入する値をシングルクォートか、ダブルクォートで括る。"
   ]
  },
  {
   "cell_type": "code",
   "execution_count": 28,
   "metadata": {},
   "outputs": [
    {
     "name": "stdout",
     "output_type": "stream",
     "text": [
      "<class 'str'>\n"
     ]
    }
   ],
   "source": [
    "b = '1'\n",
    "print (type(b))"
   ]
  },
  {
   "cell_type": "markdown",
   "metadata": {},
   "source": [
    "数値→文字列は、str()。文字列→数値は、int()　もしくはfloat()。"
   ]
  },
  {
   "cell_type": "code",
   "execution_count": 25,
   "metadata": {},
   "outputs": [
    {
     "name": "stdout",
     "output_type": "stream",
     "text": [
      "<class 'int'>\n",
      "<class 'str'>\n",
      "<class 'float'>\n"
     ]
    }
   ],
   "source": [
    "print (type(a))\n",
    "print (type(str(a)))\n",
    "print (type(float(a)))"
   ]
  },
  {
   "cell_type": "markdown",
   "metadata": {},
   "source": [
    "## 四則演算\n",
    "\n",
    "四則演算の記載方法は以下の通りです。\n",
    "\n",
    "| 演算子 | 内容 | 例     |\n",
    "|:------:|:----:|--------|\n",
    "| *      | 乗算 | 5 * 10 = 50|\n",
    "| /      | 除算 | 4 / 2  = 2|\n",
    "| +      | 加算 | 3 + 2  = 5|\n",
    "| -      | 減算 | 4 - 1  = 3|\n",
    "\n",
    "また、以下の演算子もあります。\n",
    "\n",
    "| 演算子 |           内容           |      例     |\n",
    "|:------:|:------------------------:|:-----------:|\n",
    "| //     | 除算(小数点以下切り捨て) | 5 // 2 = 2  |\n",
    "| %      | 剰余                     | 5 % 3 = 2   |\n",
    "| **     | べき乗                   | 3 ** 2 = 27 |\n"
   ]
  },
  {
   "cell_type": "code",
   "execution_count": 61,
   "metadata": {},
   "outputs": [
    {
     "data": {
      "text/plain": [
       "50"
      ]
     },
     "execution_count": 61,
     "metadata": {},
     "output_type": "execute_result"
    }
   ],
   "source": [
    "5 * 10"
   ]
  },
  {
   "cell_type": "code",
   "execution_count": 63,
   "metadata": {},
   "outputs": [
    {
     "data": {
      "text/plain": [
       "2.0"
      ]
     },
     "execution_count": 63,
     "metadata": {},
     "output_type": "execute_result"
    }
   ],
   "source": [
    "4 / 2"
   ]
  },
  {
   "cell_type": "code",
   "execution_count": 64,
   "metadata": {},
   "outputs": [
    {
     "data": {
      "text/plain": [
       "2.5"
      ]
     },
     "execution_count": 64,
     "metadata": {},
     "output_type": "execute_result"
    }
   ],
   "source": [
    "5 / 2"
   ]
  },
  {
   "cell_type": "code",
   "execution_count": 65,
   "metadata": {},
   "outputs": [
    {
     "data": {
      "text/plain": [
       "2"
      ]
     },
     "execution_count": 65,
     "metadata": {},
     "output_type": "execute_result"
    }
   ],
   "source": [
    "5 // 2"
   ]
  },
  {
   "cell_type": "code",
   "execution_count": 66,
   "metadata": {},
   "outputs": [
    {
     "data": {
      "text/plain": [
       "2"
      ]
     },
     "execution_count": 66,
     "metadata": {},
     "output_type": "execute_result"
    }
   ],
   "source": [
    "5 % 3 "
   ]
  },
  {
   "cell_type": "code",
   "execution_count": 67,
   "metadata": {},
   "outputs": [
    {
     "data": {
      "text/plain": [
       "25"
      ]
     },
     "execution_count": 67,
     "metadata": {},
     "output_type": "execute_result"
    }
   ],
   "source": [
    "5 ** 2"
   ]
  },
  {
   "cell_type": "markdown",
   "metadata": {},
   "source": [
    "## 文字列＋数値型の変数を組み合わせたprint"
   ]
  },
  {
   "cell_type": "code",
   "execution_count": 34,
   "metadata": {},
   "outputs": [
    {
     "name": "stdout",
     "output_type": "stream",
     "text": [
      "<class 'str'>\n",
      "<class 'int'>\n",
      "<class 'int'>\n"
     ]
    }
   ],
   "source": [
    "name = 'test'\n",
    "allcount = 10\n",
    "count = 1\n",
    "print (type(name))\n",
    "print(type(allcount))\n",
    "print (type(count))"
   ]
  },
  {
   "cell_type": "markdown",
   "metadata": {},
   "source": [
    "一番便利なのが、format()。文章中、変数を表示させたい場所に{数字}を書き、format()のカッコ内に対応する変数を記述していく。なお、数字は0から昇順に採番。変数がどの型かを意識する必要はない。"
   ]
  },
  {
   "cell_type": "code",
   "execution_count": null,
   "metadata": {
    "collapsed": true
   },
   "outputs": [],
   "source": [
    "print ('プログラム名{0}：全{1}回目中、{2}回目の処理です'.format(name,allcount,count))"
   ]
  },
  {
   "cell_type": "markdown",
   "metadata": {},
   "source": [
    "数値の変数を見栄え良く、001、002・・と、頭0補填したい時があるかと思います。その場合は、{数字:書式}とすれば良いです。例えば、２桁に満たない場合は頭0補填する。という場合の書式は'02d'です。"
   ]
  },
  {
   "cell_type": "code",
   "execution_count": 39,
   "metadata": {},
   "outputs": [
    {
     "name": "stdout",
     "output_type": "stream",
     "text": [
      "プログラム名test：全010回目中、01回目の処理です\n"
     ]
    }
   ],
   "source": [
    "print ('プログラム名{0}：全{1:03d}回目中、{2:02d}回目の処理です'.format(name,allcount,count))"
   ]
  },
  {
   "cell_type": "markdown",
   "metadata": {},
   "source": [
    "他の方法としては、全ての変数を文字列に変換した上で、文字列 + 文字列　で文字連結したものをprintする方法もあります。"
   ]
  },
  {
   "cell_type": "code",
   "execution_count": 55,
   "metadata": {},
   "outputs": [
    {
     "name": "stdout",
     "output_type": "stream",
     "text": [
      "プログラム名\n"
     ]
    }
   ],
   "source": [
    "print('プログラム名')"
   ]
  },
  {
   "cell_type": "code",
   "execution_count": 56,
   "metadata": {
    "scrolled": true
   },
   "outputs": [
    {
     "name": "stdout",
     "output_type": "stream",
     "text": [
      "プログラム名test:全10回目中、1回目の処理です\n"
     ]
    }
   ],
   "source": [
    "print('プログラム名' + name + ':全' +  str(allcount) + '回目中、' + str(count) + '回目の処理です')"
   ]
  },
  {
   "cell_type": "code",
   "execution_count": null,
   "metadata": {
    "collapsed": true
   },
   "outputs": [],
   "source": [
    "zfill()で頭0埋めも可能。"
   ]
  },
  {
   "cell_type": "code",
   "execution_count": 57,
   "metadata": {},
   "outputs": [
    {
     "name": "stdout",
     "output_type": "stream",
     "text": [
      "プログラム名test:全010回目中、01回目の処理です\n"
     ]
    }
   ],
   "source": [
    "print('プログラム名' + name + ':全' +  str(allcount).zfill(3) + '回目中、' + str(count).zfill(2) + '回目の処理です')"
   ]
  },
  {
   "cell_type": "markdown",
   "metadata": {},
   "source": [
    "format()の方が型を意識しなくて済む上、可読性もformat()方式の方が優れていると思うので、format()オススメ。"
   ]
  },
  {
   "cell_type": "markdown",
   "metadata": {},
   "source": [
    "## if文の書き方\n",
    "\n",
    "if文は以下の通り。  \n",
    "~~~\n",
    "if  条件式:  \n",
    "    処理内容  \n",
    "elif 条件式:  \n",
    "    処理内容  \n",
    "elif 条件式:  \n",
    "    処理内容  \n",
    "else:  \n",
    "    処理内容  \n",
    "~~~    \n",
    "条件式の最後にコロン（：）を忘れがちなので注意。また、if文やfor文など、どこまでの行を処理内容とするかはインデントにて制御します。  \n",
    "例えば、\n",
    "~~~\n",
    "if 条件式:　　  \n",
    "    処理内容1  \n",
    "    処理内容2  \n",
    "処理内容3  \n",
    "~~~\n",
    "    と書いた場合、ifの条件式に合致した場合にのみ実行されるのは処理内容1と処理内容2だけです。逆に処理内容3はifの条件に合致するorしないに関わらず実行される処理になります。  インデントはスペースでもタブでも良いですが、統一する必要があります。ちなみに、python推奨はスペース４つです。\n",
    "\n",
    "条件式で使用する比較演算子は以下の通り。  \n",
    "\n",
    "\n",
    "| 演算子 | 記述例 |       意味       |\n",
    "|:------:|:------:|:----------------:|\n",
    "| ==     | a == b | aとbが等しい     |\n",
    "| !=     | a != b | aとbが等しくない |\n",
    "| >      | a > b  | aがbより大きい   |\n",
    "| >=     | a >= b | aがb以上         |\n",
    "| <      | a < b  | bがaより大きい   |\n",
    "| =<     | a <= b | bがa以上         |\n",
    "\n",
    "複数の条件式を記述したい場合に使用する論理演算子は以下の通り。\n",
    "\n",
    "| 演算子 |  記述例 |                 意味 |\n",
    "|:------:|:-------:|---------------------:|\n",
    "| and    | a and b | aかつbが真の時、真   |\n",
    "| or     | a or b  | aまたはbが真の時、真 |\n",
    "| not    | not a   | aが偽の時、真        |"
   ]
  },
  {
   "cell_type": "code",
   "execution_count": 58,
   "metadata": {},
   "outputs": [
    {
     "name": "stdout",
     "output_type": "stream",
     "text": [
      "yes\n"
     ]
    }
   ],
   "source": [
    "a = 100\n",
    "\n",
    "if a == 100:\n",
    "    print (\"yes\")\n",
    "else:\n",
    "    print(\"no\")"
   ]
  },
  {
   "cell_type": "code",
   "execution_count": 59,
   "metadata": {},
   "outputs": [
    {
     "name": "stdout",
     "output_type": "stream",
     "text": [
      "case2\n"
     ]
    }
   ],
   "source": [
    "a = 100\n",
    "b = 50\n",
    "\n",
    "if a == 100 and b == 100:\n",
    "    print('case1')\n",
    "elif a == 100 and b == 50:\n",
    "    print('case2')\n",
    "else:\n",
    "    print('error')\n"
   ]
  },
  {
   "cell_type": "code",
   "execution_count": 60,
   "metadata": {},
   "outputs": [
    {
     "name": "stdout",
     "output_type": "stream",
     "text": [
      "error\n"
     ]
    }
   ],
   "source": [
    "a = 100\n",
    "b = 50\n",
    "\n",
    "if a == 100 and b != 50:\n",
    "    print('case1')\n",
    "elif a != 100 or b == 100:\n",
    "    print('case2')\n",
    "else:\n",
    "    print('error')"
   ]
  },
  {
   "cell_type": "markdown",
   "metadata": {},
   "source": [
    "## 繰り返し文の書き方\n",
    "### for文の書き方\n",
    "for文の書き方は少し特殊。書式としては以下の通り。\n",
    "~~~\n",
    "for 変数 in オブジェクト:\n",
    "  実行する処理1\n",
    "  実行する処理2\n",
    "~~~\n",
    "\n",
    "if文同様、オブジェクトの後にコロン(:)をつける点、繰り返し対象の処理はインデントをずらす（スペースでもタブでも良いが統一する）点がポイントです。\n",
    "\n",
    "処理イメージは、リスト型や文字列などのシーケンシャルなオブジェクトの要素を先頭から順に変数iに渡し、実行する処理を行う。というものです。ちょっとわかりづらいので、実際に試してみましょう。"
   ]
  },
  {
   "cell_type": "code",
   "execution_count": 2,
   "metadata": {},
   "outputs": [
    {
     "name": "stdout",
     "output_type": "stream",
     "text": [
      "test1\n",
      "test2\n",
      "test3\n",
      "test4\n"
     ]
    }
   ],
   "source": [
    "list = ['test1','test2','test3','test4']\n",
    "for i in list:\n",
    "    print (i)"
   ]
  },
  {
   "cell_type": "code",
   "execution_count": 6,
   "metadata": {},
   "outputs": [
    {
     "name": "stdout",
     "output_type": "stream",
     "text": [
      "get : s\n",
      "get : i\n",
      "get : g\n",
      "get : m\n",
      "get : a\n",
      "get : i\n",
      "get : n\n"
     ]
    }
   ],
   "source": [
    "name = 'sigmain'\n",
    "for i in name:\n",
    "    print ('get : {0}'.format(i))"
   ]
  },
  {
   "cell_type": "markdown",
   "metadata": {},
   "source": [
    "10回繰り返したいだけなのに、わざわざlist用意するのめんどくさいな・・という時は、range()を使いましょう。"
   ]
  },
  {
   "cell_type": "code",
   "execution_count": 9,
   "metadata": {},
   "outputs": [
    {
     "name": "stdout",
     "output_type": "stream",
     "text": [
      "0\n",
      "1\n",
      "2\n",
      "3\n",
      "4\n",
      "5\n",
      "6\n",
      "7\n",
      "8\n",
      "9\n"
     ]
    }
   ],
   "source": [
    "for i in range(10):\n",
    "    print (i)"
   ]
  },
  {
   "cell_type": "markdown",
   "metadata": {},
   "source": [
    "「for 変数 in オブジェクト:」という書き方はちょっと特殊なので最初は戸惑いますが、だんだん便利に感じてくると思います。リスト分だけ繰り返し何かの処理を行う。ということが思ったより多いので、そういう場合、すごく直接的に書けます。"
   ]
  },
  {
   "cell_type": "markdown",
   "metadata": {},
   "source": [
    "### while文の書き方\n",
    "\n",
    "while文の書き方は以下の通りです。\n",
    "\n",
    "~~~\n",
    "while 条件式:\n",
    "    処理内容1\n",
    "    処理内容2\n",
    "~~~\n",
    "\n",
    "条件式の最後にコロン(:)を記述する点、繰り返し対象の処理は、インデントをずらす（スペース、タブどれでも良いが統一する）以外は特に注意点はありません。"
   ]
  },
  {
   "cell_type": "code",
   "execution_count": 11,
   "metadata": {},
   "outputs": [
    {
     "name": "stdout",
     "output_type": "stream",
     "text": [
      "0\n",
      "1\n",
      "2\n",
      "3\n"
     ]
    }
   ],
   "source": [
    "i = 0\n",
    "while i <= 3:\n",
    "    print (i)\n",
    "    i += 1"
   ]
  },
  {
   "cell_type": "markdown",
   "metadata": {},
   "source": [
    "pythonの基本的な書き方は以上です。"
   ]
  }
 ],
 "metadata": {
  "kernelspec": {
   "display_name": "Python 3",
   "language": "python",
   "name": "python3"
  },
  "language_info": {
   "codemirror_mode": {
    "name": "ipython",
    "version": 3
   },
   "file_extension": ".py",
   "mimetype": "text/x-python",
   "name": "python",
   "nbconvert_exporter": "python",
   "pygments_lexer": "ipython3",
   "version": "3.6.1"
  },
  "toc": {
   "colors": {
    "hover_highlight": "#DAA520",
    "running_highlight": "#FF0000",
    "selected_highlight": "#FFD700"
   },
   "moveMenuLeft": true,
   "nav_menu": {
    "height": "192px",
    "width": "252px"
   },
   "navigate_menu": true,
   "number_sections": true,
   "sideBar": true,
   "threshold": 4,
   "toc_cell": false,
   "toc_section_display": "block",
   "toc_window_display": true,
   "widenNotebook": false
  }
 },
 "nbformat": 4,
 "nbformat_minor": 2
}
